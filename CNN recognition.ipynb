{
 "cells": [
  {
   "cell_type": "code",
   "execution_count": null,
   "metadata": {
    "collapsed": false,
    "nbpresent": {
     "id": "7b36b5c9-e9e7-4310-9533-ef6b516376c6"
    }
   },
   "outputs": [],
   "source": [
    "import pandas as pd\n",
    "import numpy as np\n",
    "import keras.layers.core as core\n",
    "import keras.layers.convolutional as conv\n",
    "import keras.models as models\n",
    "import keras.utils.np_utils as kutils\n",
    "from keras.layers.advanced_activations import PReLU\n",
    "from keras.layers.normalization import BatchNormalization\n",
    "from keras.callbacks import EarlyStopping, ModelCheckpoint\n",
    "import keras.backend as K\n",
    "import pylab\n",
    "from sklearn.model_selection import KFold"
   ]
  },
  {
   "cell_type": "code",
   "execution_count": null,
   "metadata": {
    "collapsed": true,
    "nbpresent": {
     "id": "742b87b0-7392-4b1f-ab88-a0469833fd80"
    }
   },
   "outputs": [],
   "source": [
    "%matplotlib inline"
   ]
  },
  {
   "cell_type": "markdown",
   "metadata": {
    "nbpresent": {
     "id": "d2a62a5c-fd32-4174-9b03-23b971e91332"
    }
   },
   "source": [
    "Данные взяты [отсюда](https://inclass.kaggle.com/c/handwritten-symbols-recognition-cmf)."
   ]
  },
  {
   "cell_type": "code",
   "execution_count": null,
   "metadata": {
    "collapsed": false,
    "nbpresent": {
     "id": "7bcd0cbc-bc63-4f7e-84c2-43adaec37325"
    }
   },
   "outputs": [],
   "source": [
    "train = pd.read_csv('train.csv').values\n",
    "test = pd.read_csv('test.csv').values\n",
    "i=0\n",
    "train[0,:]"
   ]
  },
  {
   "cell_type": "markdown",
   "metadata": {
    "nbpresent": {
     "id": "cc5ee88b-2e75-4c1f-8b84-2ddae7930ef2"
    }
   },
   "source": [
    "Индикаторы классов начинаются с 1. Делаем так, чтобы начинались с нуля."
   ]
  },
  {
   "cell_type": "code",
   "execution_count": null,
   "metadata": {
    "collapsed": false,
    "nbpresent": {
     "id": "bef1c784-939f-45f8-9c56-cbc064642b87"
    }
   },
   "outputs": [],
   "source": [
    "y_train = pd.read_csv('train_classes.csv')['class'].values-1\n",
    "y_train"
   ]
  },
  {
   "cell_type": "markdown",
   "metadata": {
    "nbpresent": {
     "id": "6a3dec3b-5f00-4b22-8a3e-eb0a7c3c085a"
    }
   },
   "source": [
    "Загрузим таблицу, сопоставляющую номера классов символам, и посмотрим, какие символы мы должны научится распознавать."
   ]
  },
  {
   "cell_type": "code",
   "execution_count": null,
   "metadata": {
    "collapsed": false,
    "nbpresent": {
     "id": "aab2d48b-9211-47f0-8a11-7e1bc384c961"
    }
   },
   "outputs": [],
   "source": [
    "symbols = pd.read_csv('class_symbols.csv',encoding=\"cp1251\",index_col='class')\n",
    "i=0\n",
    "symbols['symbol']"
   ]
  },
  {
   "cell_type": "markdown",
   "metadata": {
    "nbpresent": {
     "id": "5e68a2ab-3391-43e9-a137-ad67130a808e"
    }
   },
   "source": [
    "Следующая команда позволяет посмотреть символы выборки."
   ]
  },
  {
   "cell_type": "code",
   "execution_count": null,
   "metadata": {
    "collapsed": false,
    "nbpresent": {
     "id": "833262c1-266d-4bd1-a9f6-d772514ccc52"
    }
   },
   "outputs": [],
   "source": [
    "print(symbols['symbol'][y_train[i]+1])\n",
    "pylab.imshow(train[i,:].reshape((48,44)),cmap=\"Greys_r\")\n",
    "i+=1"
   ]
  },
  {
   "cell_type": "markdown",
   "metadata": {
    "nbpresent": {
     "id": "c0152a6e-efb5-43fd-8a53-2aa1d7e568c4"
    }
   },
   "source": [
    "Реализуем метрику F1 score для мультиклассовой классификации."
   ]
  },
  {
   "cell_type": "code",
   "execution_count": null,
   "metadata": {
    "collapsed": true,
    "nbpresent": {
     "id": "7c3a92d7-c26d-473d-909a-5a72e3fa3785"
    }
   },
   "outputs": [],
   "source": [
    "def precision(y_true, y_pred):\n",
    "    true_positives = K.sum(K.round(K.clip(y_true * y_pred, 0, 1)))\n",
    "    predicted_positives = K.sum(K.round(K.clip(y_pred, 0, 1)))\n",
    "    precision = true_positives / (predicted_positives + K.epsilon())\n",
    "    return precision\n",
    "def recall(y_true, y_pred):\n",
    "    true_positives = K.sum(K.round(K.clip(y_true * y_pred, 0, 1)))\n",
    "    possible_positives = K.sum(K.round(K.clip(y_true, 0, 1)))\n",
    "    recall = true_positives / (possible_positives + K.epsilon())\n",
    "    return recall\n",
    "def fbeta_score(y_true, y_pred, beta=1):\n",
    "    if beta < 0:\n",
    "        raise ValueError('The lowest choosable beta is zero (only precision).')\n",
    "    if K.sum(K.round(K.clip(y_true, 0, 1))) == 0:\n",
    "        return 0\n",
    "    p = precision(y_true, y_pred)\n",
    "    r = recall(y_true, y_pred)\n",
    "    bb = beta ** 2\n",
    "    fbeta_score = (1 + bb) * (p * r) / (bb * p + r + K.epsilon())\n",
    "    return fbeta_score\n",
    "def fmeasure(y_true, y_pred):\n",
    "    return fbeta_score(y_true, y_pred, beta=1)"
   ]
  },
  {
   "cell_type": "markdown",
   "metadata": {
    "nbpresent": {
     "id": "5bd4f827-e647-496e-b79a-887804dfbae7"
    }
   },
   "source": [
    "Устанавливаем максимальное количесто эпох, размер батча и размеры входных изображений."
   ]
  },
  {
   "cell_type": "code",
   "execution_count": null,
   "metadata": {
    "collapsed": true,
    "nbpresent": {
     "id": "36250b90-d413-4a8d-8c82-2f7475d3decf"
    }
   },
   "outputs": [],
   "source": [
    "nb_epoch = 500\n",
    "batch_size = 30\n",
    "img_rows, img_cols = 48, 44"
   ]
  },
  {
   "cell_type": "markdown",
   "metadata": {
    "nbpresent": {
     "id": "24c3c0d6-a2d2-42fc-8058-e2fee33a8ed3"
    }
   },
   "source": [
    "Преобразуем элементы выборки в 2d матрицы и отнормируем значения яркости."
   ]
  },
  {
   "cell_type": "code",
   "execution_count": null,
   "metadata": {
    "collapsed": true,
    "nbpresent": {
     "id": "e6053844-38f5-4643-b3ad-6304cc4924c1"
    }
   },
   "outputs": [],
   "source": [
    "trainX = train[:,:].reshape(train.shape[0], img_rows, img_cols, 1)\n",
    "trainX = trainX.astype(float)\n",
    "trainX /= 255.0"
   ]
  },
  {
   "cell_type": "markdown",
   "metadata": {
    "nbpresent": {
     "id": "bfc45bef-f82e-4d83-a4b7-08b08c5b4162"
    }
   },
   "source": [
    "То же самое с тестовой частью."
   ]
  },
  {
   "cell_type": "code",
   "execution_count": null,
   "metadata": {
    "collapsed": true,
    "nbpresent": {
     "id": "0dc883f8-c341-4d70-87a7-ea4e681f80fe"
    }
   },
   "outputs": [],
   "source": [
    "testX = test[:,:].reshape(test.shape[0], img_rows, img_cols, 1)\n",
    "testX = testX.astype(float)\n",
    "testX /= 255.0"
   ]
  },
  {
   "cell_type": "markdown",
   "metadata": {
    "nbpresent": {
     "id": "fa3aa7e3-1b11-4040-ac07-c27a8f24019f"
    }
   },
   "source": [
    "Преобразуем целевую переменную в набор дамми-переменных."
   ]
  },
  {
   "cell_type": "code",
   "execution_count": null,
   "metadata": {
    "collapsed": false,
    "nbpresent": {
     "id": "322b65d0-64b1-4829-bf23-30aaa5877294"
    }
   },
   "outputs": [],
   "source": [
    "trainY = kutils.to_categorical(y_train)\n",
    "trainY[0]"
   ]
  },
  {
   "cell_type": "markdown",
   "metadata": {
    "nbpresent": {
     "id": "5237491a-35f2-40db-98bc-1065d9bc8116"
    }
   },
   "source": [
    "Зададим общее число классов."
   ]
  },
  {
   "cell_type": "code",
   "execution_count": null,
   "metadata": {
    "collapsed": true,
    "nbpresent": {
     "id": "cd2226b4-7b3f-419b-80d8-d4bc30e45373"
    }
   },
   "outputs": [],
   "source": [
    "nb_classes = trainY.shape[1]"
   ]
  },
  {
   "cell_type": "markdown",
   "metadata": {
    "nbpresent": {
     "id": "ccbf3957-4c67-42cf-82f0-e4a650f4cc89"
    }
   },
   "source": [
    "Создаем нейронную сеть данной архитектуры:\n",
    "<img src=\"Статья/arch.jpg\">"
   ]
  },
  {
   "cell_type": "code",
   "execution_count": null,
   "metadata": {
    "collapsed": true,
    "nbpresent": {
     "id": "fc2938b2-9eba-4fdb-9825-c3c3000a0750"
    }
   },
   "outputs": [],
   "source": [
    "cnn = models.Sequential()\n",
    "\n",
    "# Сверточный слой из 20 масок 7 на 7 с функцией активации PReLU.\n",
    "cnn.add(conv.Convolution2D(20, 7, 7, input_shape=(48, 44, 1), border_mode='valid'))\n",
    "cnn.add(PReLU())\n",
    "# Оставляем только максимальное значение в каждом квадрате 2 на 2.\n",
    "cnn.add(conv.MaxPooling2D(strides=(2,2)))\n",
    "\n",
    "# Сверточный слой из 50 масок 6 на 6 глубины 20 с функцией активации PReLU.\n",
    "cnn.add(core.Reshape((1,21,19,20)))\n",
    "cnn.add(conv.Convolution3D(50, 1, 6, 6, border_mode='valid'))\n",
    "cnn.add(PReLU())\n",
    "cnn.add(core.Reshape((16,14,50)))\n",
    "# Оставляем только максимальное значение в каждом квадрате 2 на 2.\n",
    "cnn.add(conv.MaxPooling2D(strides=(2,2)))\n",
    "\n",
    "# Располагаем все сигналы в строчку.\n",
    "cnn.add(core.Flatten())\n",
    "# Дропаут слой.\n",
    "cnn.add(core.Dropout(0.7))\n",
    "\n",
    "# Полносвязный слой из 330 нейронов с функцией активации PReLU.\n",
    "cnn.add(core.Dense(330, init = 'glorot_uniform'))\n",
    "cnn.add(PReLU())\n",
    "\n",
    "# Нормализирующий и дропаут слои.\n",
    "cnn.add(BatchNormalization())    \n",
    "cnn.add(core.Dropout(0.7))\n",
    "\n",
    "# Полносвязный слой по нейрону на каждый класс.\n",
    "cnn.add(core.Dense(nb_classes, activation=\"softmax\",init = 'glorot_uniform'))"
   ]
  },
  {
   "cell_type": "markdown",
   "metadata": {
    "nbpresent": {
     "id": "74f487e5-f2b9-4d34-8058-1574a76c2ec1"
    }
   },
   "source": [
    "Эта команда позволяет посмотреть полученную архитектуру сети."
   ]
  },
  {
   "cell_type": "code",
   "execution_count": null,
   "metadata": {
    "collapsed": false,
    "nbpresent": {
     "id": "84d9d7f5-b7a1-48a6-bc0a-cd41f39ece45"
    }
   },
   "outputs": [],
   "source": [
    "cnn.summary()"
   ]
  },
  {
   "cell_type": "markdown",
   "metadata": {
    "nbpresent": {
     "id": "415655b9-3d82-4442-adbb-e6057c75aaac"
    }
   },
   "source": [
    "Выбираем loss-функцию, способ обучения сети, а также отслеживаемые метрики качества."
   ]
  },
  {
   "cell_type": "code",
   "execution_count": null,
   "metadata": {
    "collapsed": true,
    "nbpresent": {
     "id": "c67f3f3d-fb4b-4d73-a107-c9eb87d75022"
    }
   },
   "outputs": [],
   "source": [
    "cnn.compile(loss=\"categorical_crossentropy\", optimizer=\"nadam\", metrics=['accuracy',fmeasure])"
   ]
  },
  {
   "cell_type": "markdown",
   "metadata": {
    "nbpresent": {
     "id": "e57ed54e-c64b-4c77-b05c-a0661a7ea156"
    }
   },
   "source": [
    "Перестаем обучать сеть, если качество на валидационной выборке не улучшилось за последние 50 эпох."
   ]
  },
  {
   "cell_type": "code",
   "execution_count": null,
   "metadata": {
    "collapsed": true,
    "nbpresent": {
     "id": "692c074a-dbe4-46fd-af1f-c451e944a6c3"
    }
   },
   "outputs": [],
   "source": [
    "early_stopping = EarlyStopping(monitor='val_acc', patience=50,verbose=1)"
   ]
  },
  {
   "cell_type": "markdown",
   "metadata": {
    "nbpresent": {
     "id": "860a99fa-af00-461f-a151-3ddc968f3dad"
    }
   },
   "source": [
    "В качестве финальной модели выбираем ту, которая показала лучший результат на валидационной выборке."
   ]
  },
  {
   "cell_type": "code",
   "execution_count": null,
   "metadata": {
    "collapsed": true,
    "nbpresent": {
     "id": "26549f8c-0fab-43bb-afef-2badfbae0abf"
    }
   },
   "outputs": [],
   "source": [
    "check = ModelCheckpoint('best_model', monitor='val_acc', verbose=0, save_best_only=True, save_weights_only=False, mode='auto')"
   ]
  },
  {
   "cell_type": "markdown",
   "metadata": {
    "nbpresent": {
     "id": "ebc4c46c-5052-4047-8016-c1eb648ff845"
    }
   },
   "source": [
    "Разбиваем тренировочную выборку на пять частей и обучаем нейронную сеть построенной архитектуры, используя в качестве валидационной выборки каждую из пяти частей по очереди."
   ]
  },
  {
   "cell_type": "code",
   "execution_count": null,
   "metadata": {
    "collapsed": false,
    "nbpresent": {
     "id": "ab9cd760-f384-46ec-90bd-9937b7c95b5d"
    }
   },
   "outputs": [],
   "source": [
    "kf =  KFold(5, shuffle=True,random_state=23)\n",
    "i=1\n",
    "\n",
    "for train_index, test_index in kf.split(trainX):\n",
    "    \n",
    "    X_train, X_val = trainX[train_index], trainX[test_index]\n",
    "    y_train, y_val = trainY[train_index], trainY[test_index]\n",
    "    \n",
    "    cnn = models.Sequential()\n",
    "\n",
    "    cnn.add(conv.Convolution2D(20, 7, 7, input_shape=(48, 44, 1), border_mode='valid'))\n",
    "    cnn.add(PReLU())\n",
    "    cnn.add(conv.MaxPooling2D(strides=(2,2)))\n",
    "\n",
    "    cnn.add(core.Reshape((1,21,19,20)))\n",
    "    cnn.add(conv.Convolution3D(50, 1, 6, 6, border_mode='valid'))\n",
    "    cnn.add(PReLU())\n",
    "    cnn.add(core.Reshape((16,14,50)))\n",
    "    cnn.add(conv.MaxPooling2D(strides=(2,2)))\n",
    "\n",
    "    cnn.add(core.Flatten())\n",
    "    cnn.add(core.Dropout(0.7))\n",
    "\n",
    "    cnn.add(core.Dense(330, init = 'glorot_uniform'))\n",
    "    cnn.add(PReLU())\n",
    "\n",
    "    cnn.add(BatchNormalization())    \n",
    "    cnn.add(core.Dropout(0.7))\n",
    "\n",
    "    cnn.add(core.Dense(nb_classes, activation=\"softmax\",init = 'glorot_uniform'))\n",
    "    \n",
    "    cnn.compile(loss=\"categorical_crossentropy\", optimizer=\"nadam\", metrics=['accuracy'])\n",
    "    early_stopping = EarlyStopping(monitor='val_acc', patience=50,verbose=0)\n",
    "    check = ModelCheckpoint('best_model_{}'.format(i), monitor='val_acc', verbose=1, save_best_only=True, save_weights_only=True, mode='auto')\n",
    "    \n",
    "    cnn.fit(X_train, y_train,\n",
    "        batch_size=batch_size,\n",
    "        nb_epoch=nb_epoch,\n",
    "        verbose=0,\n",
    "        validation_data=(X_val,y_val),\n",
    "        callbacks=[early_stopping,check],\n",
    "        shuffle=True)\n",
    "    \n",
    "    i = i+1"
   ]
  },
  {
   "cell_type": "markdown",
   "metadata": {
    "nbpresent": {
     "id": "965d3c36-a64f-4eb5-81a4-683ce7d05692"
    }
   },
   "source": [
    "Загружаем построенные нейронные сети и предсказываем с помощью них вероятности для каждого класса."
   ]
  },
  {
   "cell_type": "code",
   "execution_count": null,
   "metadata": {
    "collapsed": true,
    "nbpresent": {
     "id": "c164e77d-9b3c-4e47-940a-2b269e212526"
    }
   },
   "outputs": [],
   "source": [
    "cnn.load_weights(\"best_model_1\")\n",
    "pred = cnn.predict_proba(testX)\n",
    "for j in range(2,6):\n",
    "    cnn.load_weights(\"best_model_{}\".format(j))\n",
    "    pred = pred+cnn.predict_proba(testX)\n",
    "pred = pred/5.0\n",
    "i=0"
   ]
  },
  {
   "cell_type": "markdown",
   "metadata": {
    "nbpresent": {
     "id": "9abbbb74-fe5f-460f-bc5c-9981c81a59be"
    }
   },
   "source": [
    "С помощью этой команды можно посмотреть на тестовые символы и предсказанные алгоритмом значения этих символов."
   ]
  },
  {
   "cell_type": "code",
   "execution_count": null,
   "metadata": {
    "collapsed": false,
    "nbpresent": {
     "id": "58e7bd8f-2b2b-43ac-ac05-8381afe625ca"
    }
   },
   "outputs": [],
   "source": [
    "w = pred[i,:]\n",
    "for j in range(5):\n",
    "    print symbols['symbol'][np.argmax(w)+1],' ',np.max(w)\n",
    "    w[np.argmax(w)] = 0\n",
    "pylab.imshow(test[i,:].reshape((48,44)),cmap=\"Greys_r\")\n",
    "i+=1"
   ]
  },
  {
   "cell_type": "markdown",
   "metadata": {
    "nbpresent": {
     "id": "9a1f915d-f46e-4642-8442-5083625a048e"
    }
   },
   "source": [
    "Предсказываем класс, не забывая, что мы сместили номера классов на 1 вниз."
   ]
  },
  {
   "cell_type": "code",
   "execution_count": null,
   "metadata": {
    "collapsed": false,
    "nbpresent": {
     "id": "3ceee0b5-21dd-4f6a-ad9e-a34438ba5dc1"
    }
   },
   "outputs": [],
   "source": [
    "yPred = np.argmax(pred,axis=1)+1"
   ]
  },
  {
   "cell_type": "markdown",
   "metadata": {
    "nbpresent": {
     "id": "ca4f2e26-147a-4292-a77c-75ee4822d680"
    }
   },
   "source": [
    "Сохраняем предсказания сети."
   ]
  },
  {
   "cell_type": "code",
   "execution_count": null,
   "metadata": {
    "collapsed": true,
    "nbpresent": {
     "id": "d17db5f1-d88c-40ab-b350-4adf98c812f9"
    }
   },
   "outputs": [],
   "source": [
    "otv = pd.DataFrame({'id':range(0,len(yPred)),'class':yPred})\n",
    "otv.to_csv('otvet.csv',index=False)"
   ]
  },
  {
   "cell_type": "markdown",
   "metadata": {},
   "source": [
    "Результаты:\n",
    "\n",
    "Классификатор|Процент совпадений\n",
    "---|---\n",
    "LeNeT-5|61.667\n",
    "LeNeT-5 + ReLU activation|67.556\n",
    "Представленная сверточная нейронная сеть|80.556\n",
    "Человек|84.889"
   ]
  }
 ],
 "metadata": {
  "anaconda-cloud": {},
  "kernelspec": {
   "display_name": "Python [conda root]",
   "language": "python",
   "name": "conda-root-py"
  },
  "language_info": {
   "codemirror_mode": {
    "name": "ipython",
    "version": 3
   },
   "file_extension": ".py",
   "mimetype": "text/x-python",
   "name": "python",
   "nbconvert_exporter": "python",
   "pygments_lexer": "ipython3",
   "version": "3.5.2"
  }
 },
 "nbformat": 4,
 "nbformat_minor": 1
}
